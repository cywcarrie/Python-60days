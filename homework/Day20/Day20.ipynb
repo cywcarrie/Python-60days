{
 "cells": [
  {
   "cell_type": "code",
   "execution_count": null,
   "metadata": {},
   "outputs": [],
   "source": [
    "#在速度較慢的時候，可以先從哪邊開始檢查？\n",
    "使用 pkl 檔讀取"
   ]
  },
  {
   "cell_type": "code",
   "execution_count": null,
   "metadata": {},
   "outputs": [],
   "source": [
    "#資料過⼤時應採取什麼⽅式讓記憶體占⽤量下降？\n",
    "將欄位的型態降級，不需要存太多元素在一個數字中\n",
    "首先先生成大資料，因為改善部分不同所以分成浮點數 float 與整數 int 的資料集,\n",
    "將整數型態 int 改成 uint 減少記憶體正用空間,\n",
    "再將浮點數型態 float64 改成 float32 減少記憶體正用空間\n"
   ]
  }
 ],
 "metadata": {
  "kernelspec": {
   "display_name": "Python 3",
   "language": "python",
   "name": "python3"
  },
  "language_info": {
   "codemirror_mode": {
    "name": "ipython",
    "version": 3
   },
   "file_extension": ".py",
   "mimetype": "text/x-python",
   "name": "python",
   "nbconvert_exporter": "python",
   "pygments_lexer": "ipython3",
   "version": "3.7.4"
  }
 },
 "nbformat": 4,
 "nbformat_minor": 2
}
